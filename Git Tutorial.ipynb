{
 "cells": [
  {
   "cell_type": "markdown",
   "metadata": {},
   "source": [
    "# Git Tutorial\n",
    "\n",
    "2/3/2018"
   ]
  },
  {
   "cell_type": "markdown",
   "metadata": {},
   "source": [
    "This notebook contains a very brief introduction to Git.\n",
    "\n",
    "Git is a very useful and powerful version control system\n",
    "\n",
    "Git is **NOT** very user-friendly\n",
    "\n",
    "There are a number of websites and programs that attempt to make git more user friendly"
   ]
  },
  {
   "cell_type": "markdown",
   "metadata": {},
   "source": [
    "## Resources"
   ]
  },
  {
   "cell_type": "markdown",
   "metadata": {},
   "source": [
    "- https://try.github.io/ - cool site to introduce you to git\n",
    "- https://git-scm.com/doc - Official documentation\n",
    "- https://git-scm.com/book/en/v2 - Free Git Book"
   ]
  },
  {
   "cell_type": "markdown",
   "metadata": {},
   "source": [
    "## Installing git"
   ]
  },
  {
   "cell_type": "markdown",
   "metadata": {},
   "source": [
    "Go to https://git-scm.com/ and install Git for your particular operating system"
   ]
  },
  {
   "cell_type": "markdown",
   "metadata": {},
   "source": [
    "## Setting up git"
   ]
  },
  {
   "cell_type": "markdown",
   "metadata": {},
   "source": [
    "Open up a terminal window - this will depend on your operating system.\n",
    " - Windows: start GitBash\n",
    " - Linux: open a terminal\n",
    " - OS X: open a terminal???\n",
    " - ChromsOS : In developer mode, type CLT-ALT-T"
   ]
  },
  {
   "cell_type": "code",
   "execution_count": 2,
   "metadata": {},
   "outputs": [
    {
     "data": {
      "text/plain": [
       "['user.name=Ben Travaglione',\n",
       " 'user.email=ben@travaglione.com',\n",
       " 'diff.jupyternotebook.command=git-nbdiffdriver diff',\n",
       " 'merge.jupyternotebook.driver=git-nbmergedriver merge %O %A %B %L %P',\n",
       " 'merge.jupyternotebook.name=jupyter notebook merge driver',\n",
       " 'difftool.nbdime.cmd=git-nbdifftool diff \"$LOCAL\" \"$REMOTE\"',\n",
       " 'difftool.prompt=false',\n",
       " 'mergetool.nbdime.cmd=git-nbmergetool merge \"$BASE\" \"$LOCAL\" \"$REMOTE\" \"$MERGED\"',\n",
       " 'mergetool.prompt=false',\n",
       " 'diff.tool=meld',\n",
       " 'difftool.meld.cmd=meld $LOCAL $REMOTE',\n",
       " 'core.repositoryformatversion=0',\n",
       " 'core.filemode=true',\n",
       " 'core.bare=false',\n",
       " 'core.logallrefupdates=true',\n",
       " 'remote.origin.url=https://github.com/b-trav/GitTutorial.git',\n",
       " 'remote.origin.fetch=+refs/heads/*:refs/remotes/origin/*',\n",
       " 'branch.master.remote=origin',\n",
       " 'branch.master.merge=refs/heads/master']"
      ]
     },
     "execution_count": 2,
     "metadata": {},
     "output_type": "execute_result"
    }
   ],
   "source": [
    "!!git config --list"
   ]
  },
  {
   "cell_type": "markdown",
   "metadata": {},
   "source": [
    "You want to store your username and email address:\n",
    "```\n",
    "git config --global user.name \"John Doe\"\n",
    "git config --global user.email johndoe@example.com\n",
    "```"
   ]
  },
  {
   "cell_type": "markdown",
   "metadata": {},
   "source": [
    "## Github"
   ]
  },
  {
   "cell_type": "markdown",
   "metadata": {
    "collapsed": true
   },
   "source": [
    "[Github](https://github.com) is a website that allows you to easily create public git repositories. Students are also able to create private git repositories.\n",
    "\n",
    "You should sign up to github when you have the chance, however you do not need to for the next step.\n",
    "\n",
    "Clone the repository containing this document:\n",
    "\n",
    "```\n",
    "git clone https://github.com/b-trav/GitTutorial.git\n",
    "```"
   ]
  },
  {
   "cell_type": "markdown",
   "metadata": {},
   "source": [
    "## Repository"
   ]
  },
  {
   "cell_type": "markdown",
   "metadata": {},
   "source": [
    "- A repository is a store of all the versions of all the files in a git project (directory).\n",
    "- A repository can either be a _working_ repository, or a _bare_ repository.\n",
    "- Working repositories have all your files in them, but they also have a sub-directory called `.git` which contains all the versions of your work.\n",
    "- A bare repository is simply the .git folder on its own - normally called `ProjectName.git`"
   ]
  },
  {
   "cell_type": "markdown",
   "metadata": {},
   "source": [
    "## Cloning a repository"
   ]
  },
  {
   "cell_type": "markdown",
   "metadata": {},
   "source": [
    "```\n",
    "git clone https://github.com/b-trav/GitTutorial.git\n",
    "```"
   ]
  },
  {
   "cell_type": "markdown",
   "metadata": {},
   "source": [
    "## Creating a repository"
   ]
  },
  {
   "cell_type": "markdown",
   "metadata": {},
   "source": [
    "Rather than cloning a repository, you can make your current directory into a git project by simply typing:\n",
    "```\n",
    "git init\n",
    "```"
   ]
  },
  {
   "cell_type": "markdown",
   "metadata": {},
   "source": [
    "## Checking the status of a repository"
   ]
  },
  {
   "cell_type": "code",
   "execution_count": 8,
   "metadata": {},
   "outputs": [
    {
     "name": "stdout",
     "output_type": "stream",
     "text": [
      "On branch master\r\n",
      "Your branch is ahead of 'origin/master' by 1 commit.\r\n",
      "  (use \"git push\" to publish your local commits)\r\n",
      "Changes not staged for commit:\r\n",
      "  (use \"git add <file>...\" to update what will be committed)\r\n",
      "  (use \"git checkout -- <file>...\" to discard changes in working directory)\r\n",
      "\r\n",
      "\t\u001b[31mmodified:   Git Tutorial.html\u001b[m\r\n",
      "\t\u001b[31mmodified:   Git Tutorial.ipynb\u001b[m\r\n",
      "\t\u001b[31mmodified:   Git Tutorial.py\u001b[m\r\n",
      "\r\n",
      "Untracked files:\r\n",
      "  (use \"git add <file>...\" to include in what will be committed)\r\n",
      "\r\n",
      "\t\u001b[31m.gitignore\u001b[m\r\n",
      "\r\n",
      "no changes added to commit (use \"git add\" and/or \"git commit -a\")\r\n"
     ]
    }
   ],
   "source": [
    "!git status"
   ]
  },
  {
   "cell_type": "markdown",
   "metadata": {},
   "source": [
    "## Adding files"
   ]
  },
  {
   "cell_type": "code",
   "execution_count": 4,
   "metadata": {
    "collapsed": true
   },
   "outputs": [],
   "source": [
    "!git add Git*"
   ]
  },
  {
   "cell_type": "markdown",
   "metadata": {},
   "source": [
    "## Committing files"
   ]
  },
  {
   "cell_type": "code",
   "execution_count": 5,
   "metadata": {},
   "outputs": [
    {
     "name": "stdout",
     "output_type": "stream",
     "text": [
      "[master b761bf1] Initial commit of this repository. Committing the Jupyter notebook containing a tutorial about git.\r\n",
      " 3 files changed, 12501 insertions(+)\r\n",
      " create mode 100644 Git Tutorial.html\r\n",
      " create mode 100644 Git Tutorial.ipynb\r\n",
      " create mode 100644 Git Tutorial.py\r\n"
     ]
    }
   ],
   "source": [
    "!git commit -m \"Initial commit of this repository. Committing the Jupyter notebook containing a tutorial about git.\""
   ]
  },
  {
   "cell_type": "markdown",
   "metadata": {},
   "source": [
    "## Ignoring files"
   ]
  },
  {
   "cell_type": "markdown",
   "metadata": {},
   "source": [
    "There are often files in git that you do not want versioned. These might include binary files from a compiler, unnecessary backup files, or sensitive files containing usernames or passwords.\n",
    "\n",
    "Jupyter creates a directory call `.ipynb_checkpoints/` which stores info about your current notebook. We do not need to version this file, so let's ignore it.\n",
    "\n",
    "We ignore files by simply listing them in a special file called `.gitignore`.\n"
   ]
  },
  {
   "cell_type": "code",
   "execution_count": 6,
   "metadata": {
    "collapsed": true
   },
   "outputs": [],
   "source": [
    "!echo \".ipynb_checkpoints/\" >> .gitignore"
   ]
  },
  {
   "cell_type": "code",
   "execution_count": 7,
   "metadata": {},
   "outputs": [
    {
     "name": "stdout",
     "output_type": "stream",
     "text": [
      ".ipynb_checkpoints/\r\n"
     ]
    }
   ],
   "source": [
    "!cat .gitignore"
   ]
  },
  {
   "cell_type": "code",
   "execution_count": 9,
   "metadata": {
    "collapsed": true
   },
   "outputs": [],
   "source": [
    "!git add .gitignore"
   ]
  },
  {
   "cell_type": "code",
   "execution_count": 10,
   "metadata": {},
   "outputs": [
    {
     "name": "stdout",
     "output_type": "stream",
     "text": [
      "[master 79d5818] Adding .gitignore file, and ignoring ipynb_checkpoints.\r\n",
      " 1 file changed, 1 insertion(+)\r\n",
      " create mode 100644 .gitignore\r\n"
     ]
    }
   ],
   "source": [
    "!git commit -m \"Adding .gitignore file, and ignoring ipynb_checkpoints.\""
   ]
  },
  {
   "cell_type": "code",
   "execution_count": 11,
   "metadata": {},
   "outputs": [
    {
     "name": "stdout",
     "output_type": "stream",
     "text": [
      "On branch master\r\n",
      "Your branch is ahead of 'origin/master' by 2 commits.\r\n",
      "  (use \"git push\" to publish your local commits)\r\n",
      "Changes not staged for commit:\r\n",
      "  (use \"git add <file>...\" to update what will be committed)\r\n",
      "  (use \"git checkout -- <file>...\" to discard changes in working directory)\r\n",
      "\r\n",
      "\t\u001b[31mmodified:   Git Tutorial.html\u001b[m\r\n",
      "\t\u001b[31mmodified:   Git Tutorial.ipynb\u001b[m\r\n",
      "\t\u001b[31mmodified:   Git Tutorial.py\u001b[m\r\n",
      "\r\n",
      "no changes added to commit (use \"git add\" and/or \"git commit -a\")\r\n"
     ]
    }
   ],
   "source": [
    "!git status"
   ]
  },
  {
   "cell_type": "markdown",
   "metadata": {},
   "source": [
    "## Pushing files"
   ]
  },
  {
   "cell_type": "code",
   "execution_count": 13,
   "metadata": {},
   "outputs": [
    {
     "name": "stdout",
     "output_type": "stream",
     "text": [
      "Everything up-to-date\r\n"
     ]
    }
   ],
   "source": [
    "!git push origin master"
   ]
  },
  {
   "cell_type": "markdown",
   "metadata": {},
   "source": [
    "## Pulling files"
   ]
  },
  {
   "cell_type": "code",
   "execution_count": 14,
   "metadata": {},
   "outputs": [
    {
     "name": "stdout",
     "output_type": "stream",
     "text": [
      "From https://github.com/b-trav/GitTutorial\n",
      " * branch            master     -> FETCH_HEAD\n",
      "Already up-to-date.\n"
     ]
    }
   ],
   "source": [
    "!git pull origin master"
   ]
  },
  {
   "cell_type": "markdown",
   "metadata": {},
   "source": [
    "## Branches, merging and much more"
   ]
  },
  {
   "cell_type": "code",
   "execution_count": null,
   "metadata": {
    "collapsed": true
   },
   "outputs": [],
   "source": []
  }
 ],
 "metadata": {
  "kernelspec": {
   "display_name": "Python 3",
   "language": "python",
   "name": "python3"
  },
  "language_info": {
   "codemirror_mode": {
    "name": "ipython",
    "version": 3
   },
   "file_extension": ".py",
   "mimetype": "text/x-python",
   "name": "python",
   "nbconvert_exporter": "python",
   "pygments_lexer": "ipython3",
   "version": "3.5.2"
  },
  "toc": {
   "colors": {
    "hover_highlight": "#DAA520",
    "navigate_num": "#000000",
    "navigate_text": "#333333",
    "running_highlight": "#FF0000",
    "selected_highlight": "#FFD700",
    "sidebar_border": "#EEEEEE",
    "wrapper_background": "#FFFFFF"
   },
   "moveMenuLeft": true,
   "nav_menu": {
    "height": "102px",
    "width": "252px"
   },
   "navigate_menu": true,
   "number_sections": true,
   "sideBar": true,
   "threshold": 4,
   "toc_cell": false,
   "toc_section_display": "block",
   "toc_window_display": true,
   "widenNotebook": false
  }
 },
 "nbformat": 4,
 "nbformat_minor": 2
}
